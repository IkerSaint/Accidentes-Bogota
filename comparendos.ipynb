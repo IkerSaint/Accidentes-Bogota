{
 "cells": [
  {
   "cell_type": "code",
   "execution_count": null,
   "id": "c1b5b25c-7686-458b-905a-c4f97eae8f84",
   "metadata": {
    "tags": []
   },
   "outputs": [],
   "source": [
    "import numpy as np\n",
    "import pandas as pd\n",
    "\n",
    "c_2015 = pd.read_csv('./data/Comparendos/Comparendos_DEI_2015_BogotA1_D.C.csv', encoding = 'utf8', low_memory=False)\n",
    "c_2016 = pd.read_csv('./data/Comparendos/Comparendos_DEI_2016_BogotA1_D.C.csv', encoding = 'utf8', low_memory=False)\n",
    "c_2017 = pd.read_csv('./data/Comparendos/Comparendos_DEI_2017_BogotA1_D.C.csv', encoding = 'utf8', low_memory=False)\n",
    "c_2018 = pd.read_csv('./data/Comparendos/Comparendos_DEI_2018_BogotA1_D.C.csv', encoding = 'utf8', low_memory=False)\n",
    "c_2019 = pd.read_csv('./data/Comparendos/Comparendos_2019_Bogota_D_C.csv', encoding = 'utf8', low_memory=False)\n",
    "c_2020 = pd.read_csv('./data/Comparendos/Comparendos_DEI_2020_BogotA1_D_C.csv', encoding = 'utf8', low_memory=False)\n",
    "c_2021 = pd.read_csv('./data/Comparendos/Comparendos_2021_Bogota_D_C.csv', encoding = 'utf8', low_memory=False)"
   ]
  },
  {
   "cell_type": "code",
   "execution_count": null,
   "id": "79095212-94d4-44ca-93a7-31f5bf20630e",
   "metadata": {},
   "outputs": [],
   "source": [
    "columns=[\"OBJECTID\",\"HORA_OCURRENCIA\",\"MUNICIPIO\"]\n",
    "\n",
    "c_2015.drop(columns, axis=1, inplace=True)\n",
    "c_2015.rename(columns={\"Y\":\"LATITUD\", \"X\":\"LONGITUD\"}, inplace=True, errors=\"raise\")"
   ]
  },
  {
   "cell_type": "code",
   "execution_count": null,
   "id": "e2462b74-87db-45b9-a8d4-19357e61c973",
   "metadata": {},
   "outputs": [],
   "source": [
    "columns=[\"OBJECTID\"]\n",
    "\n",
    "c_2016.drop(columns, axis=1, inplace=True)\n",
    "c_2016.rename(columns={\"Y\":\"LATITUD\", \"X\":\"LONGITUD\"}, inplace=True, errors=\"raise\")"
   ]
  },
  {
   "cell_type": "code",
   "execution_count": null,
   "id": "c3ec5ee8-4d45-4b84-80e2-5a6f10eda0e2",
   "metadata": {},
   "outputs": [],
   "source": [
    "columns=[\"OBJECTID\"]\n",
    "\n",
    "c_2017.drop(columns, axis=1, inplace=True)\n",
    "c_2017.rename(columns={\"Y\":\"LATITUD\", \"X\":\"LONGITUD\"}, inplace=True, errors=\"raise\")"
   ]
  },
  {
   "cell_type": "code",
   "execution_count": null,
   "id": "30ce4f91-4577-4dd4-80af-0498324f6865",
   "metadata": {},
   "outputs": [],
   "source": [
    "columns=[\"OBJECTID\",\"MUNICIPIO\"]\n",
    "\n",
    "c_2018.drop(columns, axis=1, inplace=True)\n",
    "c_2018.rename(columns={\"Y\":\"LATITUD\", \"X\":\"LONGITUD\"}, inplace=True, errors=\"raise\")"
   ]
  },
  {
   "cell_type": "code",
   "execution_count": null,
   "id": "6e9cf09a-d05d-427d-acb3-85b0e7322dc2",
   "metadata": {},
   "outputs": [],
   "source": [
    "columns=[\"X\", \"Y\",\"OBJECTID\",\"NUM_COMPARENDO\", \"ANO\", \"HORA_OCURRENCIA\", \"MES\", \"MUNICIPIO\", \"GlobalID\"]\n",
    "\n",
    "c_2019.drop(columns, axis=1, inplace=True)\n",
    "c_2019.head()"
   ]
  },
  {
   "cell_type": "code",
   "execution_count": null,
   "id": "9a4d9e15-0261-4943-8e45-06e9b21d7f4a",
   "metadata": {},
   "outputs": [],
   "source": [
    "columns=[\"X\", \"Y\", \"FID\", \"OBJECTID\", \"ANO\", \"HORA_OCURR\", \"MES\", \"MUNICIPIO\", \"PAIS\"]\n",
    "\n",
    "c_2020.drop(columns, axis=1, inplace=True)\n",
    "c_2020.rename(columns={\"MEDIO_DETE\":\"MEDIO_DETECCION\", \"CLASE_VEHI\":\"CLASE_VEHICULO\", \"TIPO_SERVI\":\"TIPO_SERVICIO\", \"DES_INFRAC\":\"DES_INFRACCION\"},\n",
    "              inplace=True, errors=\"raise\")"
   ]
  },
  {
   "cell_type": "code",
   "execution_count": null,
   "id": "0d6ce980-b5bd-4766-9577-712862b1d1e4",
   "metadata": {},
   "outputs": [],
   "source": [
    "columns=[\"X\", \"Y\", \"FID\", \"OBJECTID\",\"NUM_COMPAR\", \"ANO\", \"HORA_OCURR\", \"MES\", \"DIRECCION\", \"MUNICIPIO\"]\n",
    "\n",
    "c_2021.drop(columns, axis=1, inplace=True)\n",
    "c_2021.rename(columns={\"MEDIO_DETE\":\"MEDIO_DETECCION\", \"CLASE_VEHI\":\"CLASE_VEHICULO\", \"TIPO_SERVI\":\"TIPO_SERVICIO\", \"DES_INFRAC\":\"DES_INFRACCION\"},\n",
    "              inplace=True, errors=\"raise\")"
   ]
  },
  {
   "cell_type": "code",
   "execution_count": null,
   "id": "14319de1-1d92-412f-bb5b-ed9004685473",
   "metadata": {},
   "outputs": [],
   "source": [
    "comparendos = pd.concat([c_2015,c_2016,c_2017,c_2018,c_2019,c_2020,c_2021], ignore_index=True)\n",
    "\n",
    "dia_semana={0:'LUNES', 1:'MARTES', 2:'MIERCOLES', 3:'JUEVES', 4:'VIERNES', 5:'SABADO', 6:'DOMINGO'}\n",
    "mes={1:'ENERO', 2:'FEBRERO', 3:'MARZO', 4:'ABRIL', 5:'MAYO', 6:'JUNIO',\n",
    "     7:'JULIO', 8:'AGOSTO', 9:'SEPTIEMBRE', 10:'OCTUBRE', 11:'NOVIEMBRE', 12:'DICIEMBRE'}\n",
    "\n",
    "comparendos['FECHA_HORA']=pd.to_datetime(comparendos['FECHA_HORA'])\n",
    "comparendos['HORA'] = comparendos['FECHA_HORA'].dt.hour\n",
    "comparendos['DIA'] = comparendos['FECHA_HORA'].dt.day\n",
    "comparendos['DIA_SEMANA'] = comparendos['FECHA_HORA'].dt.dayofweek.map(dia_semana)\n",
    "comparendos['MES'] = comparendos['FECHA_HORA'].dt.month.map(mes)\n",
    "comparendos['ANO'] = comparendos['FECHA_HORA'].dt.year\n",
    "comparendos['LOCALIDAD'] = comparendos['LOCALIDAD'].str.replace(r'\\d+-', '')\n",
    "comparendos['LOCALIDAD'] = comparendos['LOCALIDAD'].str.strip()\n",
    "\n",
    "comparendos.replace({'ANTONIO NARIÑO': 'ANTONIO NARINO', 'Field was not enabled':'', '-':'','LA CANDELARIA':'CANDELARIA',\n",
    "                     'MARTIRES':'LOS MARTIRES', 'RAFAEL URIBE':'RAFAEL URIBE URIBE'}, inplace=True)\n",
    "comparendos.replace({'Diplomático':'Diplomatico'}, inplace=True)"
   ]
  },
  {
   "cell_type": "code",
   "execution_count": null,
   "id": "46e8fdac-00c6-4be3-b903-00d68058816d",
   "metadata": {},
   "outputs": [],
   "source": [
    "import pygeohash as gh\n",
    "\n",
    "comparendos['CLASE_VEHICULO'] = comparendos['CLASE_VEHICULO'].str.strip()\n",
    "comparendos.replace({'AUTOMOVIL': 'AUTOMÓVIL', 'CAMION':'CAMIÓN', 'CICLOMOTO':'CICLOMOTOR','MOTOTRICILO':'MOTOTRICICLO',\n",
    "                     'TRACCION ANIMAL':'TRACCIÓN ANIMAL', 'TRACTOCAMION':'TRACTOCAMIÓN', '-1':''}, inplace=True)\n",
    "\n",
    "comparendos['CLASE_VEHICULO'] = comparendos['CLASE_VEHICULO'].str.upper()\n",
    "comparendos[\"GEO\"] = comparendos['LATITUD'].astype(str)+','+comparendos['LONGITUD'].astype(str)\n",
    "comparendos[\"GEOHASH\"] = comparendos.apply(lambda x: gh.encode(x.LATITUD, x.LONGITUD, precision=6), axis=1)"
   ]
  },
  {
   "cell_type": "code",
   "execution_count": null,
   "id": "c2b8f627-20fe-4d57-910b-61d71c3e5b5f",
   "metadata": {},
   "outputs": [],
   "source": [
    "comparendos.replace({'': None, ' ': None}, inplace=True) \n",
    "comparendos.replace({np.nan: None}, inplace=True)\n",
    "comparendos.fillna({0: None}, inplace=True)"
   ]
  },
  {
   "cell_type": "code",
   "execution_count": null,
   "id": "52b3175a-47f6-454b-96b2-77f21e20370a",
   "metadata": {
    "tags": []
   },
   "outputs": [],
   "source": [
    "from elasticsearch import Elasticsearch\n",
    "from elasticsearch import helpers\n",
    "\n",
    "NODES = [\"https://myelasticinstance01:9200\",\"https://myelasticinstance02:9200\"]\n",
    "es_client = Elasticsearch(\n",
    "    NODES,\n",
    "    #verify_certs=False,\n",
    "    #ssl_show_warn=False,\n",
    "    basic_auth=(\"myawesomename\", \"mysupersecretpassword\")\n",
    ")\n",
    "\n",
    "es_client.info()"
   ]
  },
  {
   "cell_type": "code",
   "execution_count": null,
   "id": "42ec2ee7-3c79-4bcd-b47b-36fc3769aaf6",
   "metadata": {
    "tags": []
   },
   "outputs": [],
   "source": [
    "def doc_generator(df):\n",
    "    df_iter = df.iterrows()\n",
    "    for index, document in df_iter:\n",
    "        doc = {\n",
    "            \"_index\" : \"movilidad_comparendos\",\n",
    "            \"_id\" : index,\n",
    "            \"_source\" : document.to_dict()\n",
    "        }\n",
    "        yield doc\n",
    "        "
   ]
  },
  {
   "cell_type": "code",
   "execution_count": null,
   "id": "27a975e2-a4e2-49d2-aeb3-8f3d29d1cdce",
   "metadata": {
    "tags": []
   },
   "outputs": [],
   "source": [
    "for success, info in helpers.parallel_bulk(es_client, doc_generator(comparendos)):\n",
    "    if not success:\n",
    "        print('A document failed:', info)"
   ]
  }
 ],
 "metadata": {
  "kernelspec": {
   "display_name": "Python 3 (ipykernel)",
   "language": "python",
   "name": "python3"
  },
  "language_info": {
   "codemirror_mode": {
    "name": "ipython",
    "version": 3
   },
   "file_extension": ".py",
   "mimetype": "text/x-python",
   "name": "python",
   "nbconvert_exporter": "python",
   "pygments_lexer": "ipython3",
   "version": "3.10.8"
  }
 },
 "nbformat": 4,
 "nbformat_minor": 5
}
