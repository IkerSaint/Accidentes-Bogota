{
 "cells": [
  {
   "cell_type": "code",
   "execution_count": 1,
   "id": "c1b5b25c-7686-458b-905a-c4f97eae8f84",
   "metadata": {
    "tags": []
   },
   "outputs": [],
   "source": [
    "import numpy as np\n",
    "import pandas as pd\n",
    "\n",
    "accidentes = pd.read_csv('./data/Siniestros/Siniestros_Viales_Bogota_Accidente.csv', low_memory=False)\n",
    "lesionados = pd.read_csv('./data/Siniestros/Siniestros_Viales_Bogota_Lesionados.csv', index_col='FORMULARIO', low_memory=False)\n",
    "muertos = pd.read_csv('./data/Siniestros/Siniestros_Viales_Bogota_Muertos.csv', index_col='FORMULARIO', low_memory=False)\n",
    "vehiculos = pd.read_csv('./data/Siniestros/AnA1lisis_Siniestralidad_vehiculos.csv', index_col='FORMULARIO', low_memory=False)\n",
    "causas = pd.read_csv('./data/Siniestros/AnA1lisis_Siniestralidad_causas.csv', index_col='FORMULARIO', low_memory=False)"
   ]
  },
  {
   "cell_type": "code",
   "execution_count": 2,
   "id": "65f89c53-997d-415d-8f18-6bfb48135ca0",
   "metadata": {},
   "outputs": [],
   "source": [
    "columns=[\"X\", \"Y\",\"OBJECTID\",\"HORA_OCURRENCIA_ACC\",\"ANO_OCURRENCIA_ACC\",\"MES_OCURRENCIA_ACC\",\n",
    "         \"DIA_OCURRENCIA_ACC\",\"LOCALIDAD\", \"LATITUD\",\"LONGITUD\",\"FECHA\"]\n",
    "\n",
    "lesionados.drop(columns, axis=1, inplace=True)\n",
    "lesionados.replace({'': None}, inplace=True) \n",
    "lesionados.replace({np.nan: None}, inplace=True)\n",
    "lesionados.fillna({0: None}, inplace=True)"
   ]
  },
  {
   "cell_type": "code",
   "execution_count": 3,
   "id": "1975198b-7bb7-4448-8e67-d7a1df3ebbb2",
   "metadata": {},
   "outputs": [],
   "source": [
    "lesionados_col = lesionados.groupby('FORMULARIO', level=0).apply(lambda x: x.to_dict(orient='records')).to_frame()\n",
    "lesionados_col.rename(columns={0:\"LESIONADOS\"}, inplace=True, errors=\"raise\")"
   ]
  },
  {
   "cell_type": "code",
   "execution_count": 4,
   "id": "11ee2dfe-4f36-4c7e-b7b4-9a3468559ac8",
   "metadata": {},
   "outputs": [],
   "source": [
    "lesionados_accidentes = accidentes.join(lesionados_col, on='FORMULARIO')"
   ]
  },
  {
   "cell_type": "code",
   "execution_count": 5,
   "id": "8fefc873-15d4-41b8-9ca4-a5615ef72a9f",
   "metadata": {},
   "outputs": [],
   "source": [
    "columns=[\"X\", \"Y\",\"OBJECTID\",\"HORA_OCURRENCIA_ACC\",\"ANO_OCURRENCIA_ACC\",\"MES_OCURRENCIA_ACC\",\n",
    "         \"DIA_OCURRENCIA_ACC\",\"LOCALIDAD\", \"LATITUD\",\"LONGITUD\",\"FECHA\"]\n",
    "\n",
    "muertos.drop(columns, axis=1, inplace=True)\n",
    "\n",
    "muertos['MUERTE_POSTERIOR'] = muertos['MUERTE_POSTERIOR'].map({'N':False, 'S': True})\n",
    "muertos['FECHA_POSTERIOR_MUERTE']=pd.to_datetime(muertos['FECHA_POSTERIOR_MUERTE'])\n",
    "muertos.replace({'': None}, inplace=True) \n",
    "muertos.replace({np.nan: None}, inplace=True)\n",
    "muertos.fillna({0: None}, inplace=True)"
   ]
  },
  {
   "cell_type": "code",
   "execution_count": 6,
   "id": "5139dd72-2b17-45dc-9ae3-fc6e6d7c3874",
   "metadata": {},
   "outputs": [],
   "source": [
    "muertos_col = muertos.groupby('FORMULARIO', level=0).apply(lambda x: x.to_dict(orient='records')).to_frame()\n",
    "muertos_col.rename(columns={0:\"MUERTOS\"}, inplace=True, errors=\"raise\")"
   ]
  },
  {
   "cell_type": "code",
   "execution_count": 7,
   "id": "3dee122c-b5fe-440b-8a18-6361181abfa9",
   "metadata": {},
   "outputs": [],
   "source": [
    "final = lesionados_accidentes.join(muertos_col, on='FORMULARIO')"
   ]
  },
  {
   "cell_type": "code",
   "execution_count": 8,
   "id": "577525f1-0738-4cf4-a83a-bb3a56dcbb72",
   "metadata": {},
   "outputs": [],
   "source": [
    "dia_semana={0:'LUNES', 1:'MARTES', 2:'MIERCOLES', 3:'JUEVES', 4:'VIERNES', 5:'SABADO', 6:'DOMINGO'}\n",
    "mes={1:'ENERO', 2:'FEBRERO', 3:'MARZO', 4:'ABRIL', 5:'MAYO', 6:'JUNIO',\n",
    "     7:'JULIO', 8:'AGOSTO', 9:'SEPTIEMBRE', 10:'OCTUBRE', 11:'NOVIEMBRE', 12:'DICIEMBRE'}\n",
    "\n",
    "final['FECHA_HORA'] = pd.to_datetime(final['FECHA']+\" \"+final['HORA_OCURRENCIA_ACC'],  dayfirst=True)\n",
    "final['FECHA_HORA_ACC']=pd.to_datetime(final['FECHA_HORA_ACC'])\n",
    "final['HORA'] = final['FECHA_HORA'].dt.hour\n",
    "final['DIA'] = final['FECHA_HORA'].dt.day\n",
    "final['DIA_SEMANA'] = final['FECHA_HORA'].dt.dayofweek.map(dia_semana)\n",
    "final['MES'] = final['FECHA_HORA'].dt.month.map(mes)\n",
    "final['ANO'] = final['FECHA_HORA'].dt.year\n",
    "\n",
    "columns=[\"OBJECTID\", \"X\", \"Y\", \"HORA_OCURRENCIA_ACC\", \"ANO_OCURRENCIA_ACC\", \"MES_OCURRENCIA_ACC\", \"DIA_OCURRENCIA_ACC\"]\n",
    "\n",
    "final.drop(columns, axis=1, inplace=True)\n",
    "final.dropna(subset=\"FECHA\", inplace=True)"
   ]
  },
  {
   "cell_type": "code",
   "execution_count": 10,
   "id": "424bf84b-7de7-48fc-acdf-b3f2c9069423",
   "metadata": {},
   "outputs": [],
   "source": [
    "columns=[\"OBJECTID\", \"CODIGO_ACCIDENTE\", \"CODIGO\", \"TIPO\"]\n",
    "causas.drop(columns, axis=1, inplace=True)\n",
    "causas.rename(columns={\"NOMBRE\":\"NOMBRE_CAUSA\"}, inplace=True, errors=\"raise\")"
   ]
  },
  {
   "cell_type": "code",
   "execution_count": 11,
   "id": "0c2e64d3-aa7d-4d4a-9f7d-320d27bfdd7d",
   "metadata": {},
   "outputs": [],
   "source": [
    "vehiculos = vehiculos.merge(causas, how=\"left\", on=['FORMULARIO', 'CODIGO_VEHICULO'])"
   ]
  },
  {
   "cell_type": "code",
   "execution_count": 12,
   "id": "d0260297-11b9-432b-ad1d-faa9e79ad0c8",
   "metadata": {},
   "outputs": [],
   "source": [
    "vehiculos.drop([\"OBJECTID\"], axis=1, inplace=True)\n",
    "vehiculos[\"PLACA\"] = vehiculos[\"PLACA\"].str.strip()\n",
    "vehiculos['ENFUGA'] = vehiculos['ENFUGA'].map({'N':False, 'S': True})\n",
    "\n",
    "values = {\"PLACA\": \"\", \"CLASE\": \"\", \"MODALIDAD\": \"\", \"ENFUGA\": \"\", \"NOMBRE_CAUSA\": \"\", \"TIPO_CAUSA\":\"\"}\n",
    "\n",
    "vehiculos.fillna(value=values, inplace=True)\n",
    "vehiculos.replace({'': None}, inplace=True)\n",
    "vehiculos.replace({np.nan: None}, inplace=True)\n",
    "vehiculos.fillna({0: None}, inplace=True)"
   ]
  },
  {
   "cell_type": "code",
   "execution_count": null,
   "id": "0a4cfe80-f66b-4663-bc91-fa68ff02239c",
   "metadata": {},
   "outputs": [],
   "source": [
    "import pygeohash as gh\n",
    "\n",
    "vehiculos_col = vehiculos.groupby('FORMULARIO', level=0).apply(lambda x: x.to_dict(orient='records')).to_frame()\n",
    "vehiculos_col.rename(columns={0:\"VEHICULOS\"}, inplace=True, errors=\"raise\")\n",
    "\n",
    "final = final.join(vehiculos_col, on='FORMULARIO')\n",
    "\n",
    "final[\"GEO\"] = final['LATITUD'].astype(str)+','+final['LONGITUD'].astype(str)\n",
    "final[\"GEOHASH\"] = final.apply(lambda x: gh.encode(x.LATITUD, x.LONGITUD, precision=6), axis=1)"
   ]
  },
  {
   "cell_type": "code",
   "execution_count": null,
   "id": "034ee06c-875a-447f-a3b8-05256db53b51",
   "metadata": {},
   "outputs": [],
   "source": [
    "values = {\"HORA\": \"\", \"MES\": \"\", \"DIA\": \"\", \"DIA_SEMANA\": \"\", \"GRAVEDAD\": \"\", \"CLASE_ACC\":\"\", \"LOCALIDAD\": \"\",\n",
    "          \"FECHA_HORA_ACC\": \"\", \"CONDICION\": \"\", \"GENERO\":\"\", \"MUERTE_POSTERIOR\":\"\", \"FECHA_POSTERIOR_MUERTE\":\"\"}\n",
    "\n",
    "final.fillna(value=values, inplace=True)\n",
    "final.replace({'': None}, inplace=True) \n",
    "final.replace({np.nan: None}, inplace=True)\n",
    "final.fillna({0: None}, inplace=True)"
   ]
  },
  {
   "cell_type": "code",
   "execution_count": null,
   "id": "52b3175a-47f6-454b-96b2-77f21e20370a",
   "metadata": {
    "tags": []
   },
   "outputs": [],
   "source": [
    "from elasticsearch import Elasticsearch\n",
    "from elasticsearch import helpers\n",
    "\n",
    "NODES = [\"https://myelasticinstance01:9200\",\"https://myelasticinstance02:9200\"]\n",
    "es_client = Elasticsearch(\n",
    "    NODES,\n",
    "    #verify_certs=False,\n",
    "    #ssl_show_warn=False,\n",
    "    basic_auth=(\"myawesomename\", \"mysupersecretpassword\")\n",
    ")\n",
    "\n",
    "es_client.info()"
   ]
  },
  {
   "cell_type": "code",
   "execution_count": null,
   "id": "42ec2ee7-3c79-4bcd-b47b-36fc3769aaf6",
   "metadata": {
    "tags": []
   },
   "outputs": [],
   "source": [
    "def doc_generator(df):\n",
    "    df_iter = df.iterrows()\n",
    "    for index, document in df_iter:\n",
    "        doc = {\n",
    "            \"_index\" : \"movilidad_accidentes\",\n",
    "            \"_id\" : index,\n",
    "            \"_source\" : document.to_dict()\n",
    "        }\n",
    "        yield doc\n",
    "        "
   ]
  },
  {
   "cell_type": "code",
   "execution_count": null,
   "id": "27a975e2-a4e2-49d2-aeb3-8f3d29d1cdce",
   "metadata": {
    "tags": []
   },
   "outputs": [],
   "source": [
    "for success, info in helpers.parallel_bulk(es_client, doc_generator(final)):\n",
    "    if not success:\n",
    "        print('A document failed:', info)"
   ]
  },
  {
   "cell_type": "markdown",
   "id": "3d89dbcd-be41-4c39-8692-8d7d6c3670f4",
   "metadata": {},
   "source": [
    "One little aggregation to get you started making your very own ML Algorithm"
   ]
  },
  {
   "cell_type": "code",
   "execution_count": null,
   "id": "d14b4a69-ef48-4f14-b4ea-d77b25ab31b5",
   "metadata": {},
   "outputs": [],
   "source": [
    "from sklearn.preprocessing import LabelEncoder\n",
    "\n",
    "data = final.groupby([pd.Grouper(key='FECHA_HORA', freq='1d'), 'GEOHASH']).count().reset_index().sort_values(['FECHA_HORA','GEOHASH'])\n",
    "display(data)"
   ]
  },
  {
   "cell_type": "code",
   "execution_count": null,
   "id": "f503ccee-5198-4b68-9221-de19493247aa",
   "metadata": {},
   "outputs": [],
   "source": []
  }
 ],
 "metadata": {
  "kernelspec": {
   "display_name": "Python 3 (ipykernel)",
   "language": "python",
   "name": "python3"
  },
  "language_info": {
   "codemirror_mode": {
    "name": "ipython",
    "version": 3
   },
   "file_extension": ".py",
   "mimetype": "text/x-python",
   "name": "python",
   "nbconvert_exporter": "python",
   "pygments_lexer": "ipython3",
   "version": "3.10.8"
  }
 },
 "nbformat": 4,
 "nbformat_minor": 5
}
